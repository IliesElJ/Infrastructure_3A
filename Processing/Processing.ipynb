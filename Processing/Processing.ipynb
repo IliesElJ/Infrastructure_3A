{
 "cells": [
  {
   "cell_type": "code",
   "execution_count": null,
   "id": "6bcfdf50-a08e-470a-bf36-7c0a1465611b",
   "metadata": {},
   "outputs": [],
   "source": [
    "pip install yfinance"
   ]
  },
  {
   "cell_type": "code",
   "execution_count": 1,
   "id": "75cf14a5-eedb-489c-97f3-5c88aec1c5c0",
   "metadata": {},
   "outputs": [],
   "source": [
    "import numpy as np\n",
    "import pandas as pd\n",
    "import datetime\n",
    "import yfinance as yf"
   ]
  },
  {
   "cell_type": "markdown",
   "id": "b7cd7811-94e4-48a5-9ffe-f63f16b9ea19",
   "metadata": {},
   "source": [
    "### Tesla Stock Price, NASDAQ Composite, S&P 500 and Oil price"
   ]
  },
  {
   "cell_type": "code",
   "execution_count": 2,
   "id": "d986699a-a728-418e-86ff-cc87867f94eb",
   "metadata": {},
   "outputs": [
    {
     "name": "stdout",
     "output_type": "stream",
     "text": [
      "[*********************100%%**********************]  1 of 1 completed\n",
      "[*********************100%%**********************]  1 of 1 completed\n",
      "[*********************100%%**********************]  1 of 1 completed\n",
      "[*********************100%%**********************]  1 of 1 completed\n"
     ]
    }
   ],
   "source": [
    "tesla_idx = \"TSLA\"\n",
    "NASDAQ_composite_idx = '^IXIC'\n",
    "SnP_500_idx = '^GSPC'\n",
    "oil_price_idx = 'AAPL'\n",
    "\n",
    "start_date = \"2021-01-01\"\n",
    "end_date = \"2022-12-30\" # Il n'y a pas les données pour le 31 décembre 2022, le 01 et 02 janvier 2023\n",
    "\n",
    "tesla_stock_price = yf.download(tesla_idx, start=start_date, end=end_date)\n",
    "NASDAQ_composite = yf.download(NASDAQ_composite_idx, start=start_date, end=end_date)\n",
    "SnP_500 = yf.download(SnP_500_idx, start=start_date, end=end_date)\n",
    "oil_price = yf.download(oil_price_idx, start=start_date, end=end_date)"
   ]
  },
  {
   "cell_type": "code",
   "execution_count": 3,
   "id": "9bed0151-7c10-4f2d-96bb-8b44814e7a1f",
   "metadata": {
    "tags": []
   },
   "outputs": [],
   "source": [
    "# Création d'un array avec toutes les dates du 3 janvier 2021 au 4 janvier 2023\n",
    "date_debut = datetime.datetime(2021, 1, 1)\n",
    "date_fin = datetime.datetime(2022, 12, 30)\n",
    "dates = np.arange(date_debut, date_fin, datetime.timedelta(days=1))\n",
    "\n",
    "# Récupération des jours d'ouvertures du marché\n",
    "market_days = tesla_stock_price.index.to_numpy()\n",
    "\n",
    "# Récupération des valeurs en bourses à l'ouverture de nos paramètres\n",
    "tesla_open = tesla_stock_price['Open'].to_numpy()\n",
    "NASDAQ_open = NASDAQ_composite['Open'].to_numpy()\n",
    "SnP_500_open = SnP_500['Open'].to_numpy()\n",
    "oil_open = oil_price['Open'].to_numpy()\n"
   ]
  },
  {
   "cell_type": "markdown",
   "id": "cc4a019d-33eb-419a-871d-ef6a7e697cc7",
   "metadata": {},
   "source": [
    "### Tesla deaths cases"
   ]
  },
  {
   "cell_type": "code",
   "execution_count": 4,
   "id": "d31c2b0a-cd0b-4c9f-9e9b-1ed35b376ae4",
   "metadata": {},
   "outputs": [],
   "source": [
    "df_deaths = pd.read_excel(\"../Datasets/Tesla Deaths.xlsx\", header = 1)\n",
    "\n",
    "deaths_dates = df_deaths['Date'].to_numpy()\n",
    "deaths_count = df_deaths['Deaths'].to_numpy(dtype=int)\n"
   ]
  },
  {
   "cell_type": "markdown",
   "id": "60290e59-405e-4b3a-9fab-eaa95e3336ef",
   "metadata": {},
   "source": [
    "### Tweets of Elon Musk"
   ]
  },
  {
   "cell_type": "code",
   "execution_count": 5,
   "id": "c9c3448d-2fcb-4d8c-a8b4-463e62fc1539",
   "metadata": {},
   "outputs": [],
   "source": [
    "df_tweets_2021 = pd.read_csv(\"../Datasets/tweets_2021.csv\")[::-1]\n",
    "df_tweets_2022 = pd.read_csv(\"../Datasets/Elon musk tweets 2022.csv\")[::-1]\n",
    "df_tweets = pd.concat([df_tweets_2021, df_tweets_2022]).reset_index(drop = True)\n",
    "\n",
    "tweets_dates = np.array([np.datetime64(date.split(' ')[0]) for date in df_tweets['date'].to_numpy()], dtype='datetime64[us]')\n",
    "tweets_content = df_tweets['Content'].to_numpy()\n",
    "tweets_likes = df_tweets['Likes'].to_numpy()\n",
    "tweets_retweet = df_tweets['Retweet'].to_numpy()\n"
   ]
  },
  {
   "cell_type": "markdown",
   "id": "c4e8938f-b67f-489d-9fd0-e23b518f647a",
   "metadata": {},
   "source": [
    "### Installation des bornes Tesla"
   ]
  },
  {
   "cell_type": "code",
   "execution_count": 6,
   "id": "5244f5f0-f4dc-459c-91e2-76cd3cd438ab",
   "metadata": {},
   "outputs": [],
   "source": [
    "df_bornes = pd.read_csv(\"../Datasets/bornes_tesla.csv\", dtype = object)\n",
    "\n",
    "bornes_dates = np.array([np.datetime64(date.split('T')[0]) for date in df_bornes['created_at'].to_numpy()], dtype='datetime64[us]')\n"
   ]
  },
  {
   "cell_type": "markdown",
   "id": "61a96724-6eae-4fd5-a4ac-396cc74c2747",
   "metadata": {},
   "source": [
    "### Mise en forme de toutes les colonnes en format np.array"
   ]
  },
  {
   "cell_type": "code",
   "execution_count": 7,
   "id": "8a2d46d0-d5ee-4515-b85c-d93d20bc7df8",
   "metadata": {},
   "outputs": [],
   "source": [
    "# Tous les lags qui seront utilisés dans le DataFrame final\n",
    "lag1 = 2\n",
    "lag3 = 4\n",
    "lag7 = 8\n",
    "lag30 = 31\n",
    "nb_days = len(dates)\n",
    "\n",
    "# Voici la liste de tous les paramètres\n",
    "parametres = ['Date', 'Tesla Stock Price', 'NASDAQ Composite', 'S&P 500', 'Oil Price', \n",
    "              'Deaths', 'Deaths Lag '+str(lag1-1), 'Deaths Lag '+str(lag7-1), 'Deaths Lag '+str(lag30-1), \n",
    "              'Tweets of Elon Musk', 'Tweet with mention Tesla','% Tweet w/ mention Tesla', \n",
    "              'Tweet w/ mention Tesla Lag '+str(lag1-1), 'Tweet w/ mention Tesla Lag '+str(lag3-1), \n",
    "              'Tweet w/ mention Tesla Lag '+str(lag7-1), 'Tweet Likes', 'Tweet Likes Lag '+str(lag1-1),\n",
    "              'Tweet Likes Lag '+str(lag3-1), 'Tweet Likes Lag '+str(lag7-1), 'Retweet', \n",
    "              'Retweet Lag '+str(lag1-1), 'Retweet Lag '+str(lag3-1),  'Retweet Lag '+str(lag7-1), \n",
    "              'Installation bornes de recharge', 'Bornes Lag '+str(lag7-1), 'Bornes Lag '+str(lag30-1) ]\n"
   ]
  },
  {
   "cell_type": "code",
   "execution_count": 8,
   "id": "9a66082a-8baa-458c-b6ec-8c77ea504a7b",
   "metadata": {},
   "outputs": [
    {
     "data": {
      "text/plain": [
       "26"
      ]
     },
     "execution_count": 8,
     "metadata": {},
     "output_type": "execute_result"
    }
   ],
   "source": [
    "len(parametres)"
   ]
  },
  {
   "cell_type": "markdown",
   "id": "9514f07f-33a7-4603-80a2-e131e65bf110",
   "metadata": {},
   "source": [
    "#### Variable 1 : Dates"
   ]
  },
  {
   "cell_type": "code",
   "execution_count": 9,
   "id": "12a8a4a5-adce-4f9f-9f10-a2a8afe4f3ea",
   "metadata": {},
   "outputs": [],
   "source": [
    "dates_format_df = np.array([np.datetime_as_string(dates[i], unit='D') for i in range(nb_days)])"
   ]
  },
  {
   "cell_type": "code",
   "execution_count": 10,
   "id": "ef979284-bda9-435d-84c8-49c32a6475d2",
   "metadata": {},
   "outputs": [
    {
     "data": {
      "text/plain": [
       "'2021-01-01'"
      ]
     },
     "execution_count": 10,
     "metadata": {},
     "output_type": "execute_result"
    }
   ],
   "source": [
    "dates_format_df[0]"
   ]
  },
  {
   "cell_type": "markdown",
   "id": "38ca2260-7ecc-4892-bb7a-28ea98544bcc",
   "metadata": {},
   "source": [
    "#### Variables 1 à 5 : Date, Tesla Stock, NASDAQ Composite, S&P 500, Prix du pétrole"
   ]
  },
  {
   "cell_type": "code",
   "execution_count": 11,
   "id": "e0c009b2-4bc2-4d71-bbb5-011f26534cdc",
   "metadata": {},
   "outputs": [],
   "source": [
    "market_nb_para = 5\n",
    "\n",
    "data_market = np.zeros([nb_days,market_nb_para], dtype = object)\n",
    "count_market_day = 0 # Cette variable nous permet de suivre les jours d'ouverture du marché\n",
    "\n",
    "for i in range(nb_days):\n",
    "    \n",
    "    #Ajout dates\n",
    "    data_market[i,0] = dates_format_df[i]\n",
    "    # Ajout valeurs sur le marché\n",
    "    data_market[i,1] = tesla_open[count_market_day]\n",
    "    data_market[i,2] = NASDAQ_open[count_market_day]\n",
    "    data_market[i,3] = SnP_500_open[count_market_day]\n",
    "    data_market[i,4] = oil_open[count_market_day]\n",
    "    # On suit les jours d'ouverture du marché\n",
    "    if dates[i] == market_days[count_market_day]:\n",
    "        count_market_day += 1"
   ]
  },
  {
   "cell_type": "code",
   "execution_count": 12,
   "id": "e4ed6287-4a43-464f-94ff-d621d34766dd",
   "metadata": {},
   "outputs": [
    {
     "data": {
      "text/plain": [
       "array(['2021-01-11', 283.1333312988281, 13048.7802734375,\n",
       "       3803.139892578125, 129.19000244140625], dtype=object)"
      ]
     },
     "execution_count": 12,
     "metadata": {},
     "output_type": "execute_result"
    }
   ],
   "source": [
    "data_market[10]"
   ]
  },
  {
   "cell_type": "markdown",
   "id": "1909cf0b-4bb7-453f-b74c-822d78b5505a",
   "metadata": {},
   "source": [
    "#### Variables 6 et 7 : Nombre de morts, avec lag de 1 jour, 7 jours et 30 jours"
   ]
  },
  {
   "cell_type": "code",
   "execution_count": 13,
   "id": "b25a2b16-61d3-41c7-92ab-68842acf9852",
   "metadata": {},
   "outputs": [],
   "source": [
    "deaths_nb_para = 4\n",
    "\n",
    "data_deaths = np.zeros([nb_days,deaths_nb_para], dtype = int)\n",
    "\n",
    "for i in range(nb_days):\n",
    "    \n",
    "    # Ajout des morts, on cherche s'il y a eu un déces à la dates[i] grâce à notre liste des dates de décès\n",
    "    idx_death = np.where(deaths_dates == dates[i])[0]\n",
    "    if len(idx_death) > 0:\n",
    "        for j in idx_death:\n",
    "            # Mort sans lag\n",
    "            data_deaths[i,0] = deaths_count[j]\n",
    "            \n",
    "            # Mort avec lag1\n",
    "            if nb_days-i >= lag1:\n",
    "                data_deaths[i:i+lag1,1] += deaths_count[j]\n",
    "            else:\n",
    "                data_deaths[i:,1] += deaths_count[j]\n",
    "                \n",
    "            # Mort avec lag7\n",
    "            if nb_days-i >= lag7:\n",
    "                data_deaths[i:i+lag7,2] += deaths_count[j]\n",
    "            else:\n",
    "                data_deaths[i:,2] += deaths_count[j]\n",
    "                \n",
    "            # Mort avec lag30\n",
    "            if nb_days-i >= lag30:\n",
    "                data_deaths[i:i+lag30,3] += deaths_count[j]\n",
    "            else:\n",
    "                data_deaths[i:,3] += deaths_count[j]"
   ]
  },
  {
   "cell_type": "code",
   "execution_count": 14,
   "id": "9bf216f1-7b0f-48f8-b290-d53592578c31",
   "metadata": {},
   "outputs": [
    {
     "data": {
      "text/plain": [
       "array([2, 2, 2, 2])"
      ]
     },
     "execution_count": 14,
     "metadata": {},
     "output_type": "execute_result"
    }
   ],
   "source": [
    "data_deaths[9]"
   ]
  },
  {
   "cell_type": "markdown",
   "id": "ec40c6b9-e52f-4e97-9a43-7a3ca5e80787",
   "metadata": {},
   "source": [
    "#### Variables 8 à 13 : Nombre de tweets; Nombre avec mention Tesla; Proportion avec mention Tesla; Tweets Tesla lag 1 jour, 3 jours, 1 semaine; Nombre de likes, avec/sans lags; Nombre de retweets, avec/sans lags"
   ]
  },
  {
   "cell_type": "code",
   "execution_count": 15,
   "id": "59b05136-52d8-4ef9-8cf9-e6a3b45b95ca",
   "metadata": {
    "tags": []
   },
   "outputs": [],
   "source": [
    "tweets_nb_para = 14\n",
    "\n",
    "data_tweets = np.zeros([nb_days,tweets_nb_para])\n",
    "\n",
    "for i in range(nb_days):\n",
    "    \n",
    "    # Ajout de la date des tweets, likes et retweet, ainsi que la mention du mot Tesla\n",
    "    idx_tweet = np.where(tweets_dates == dates[i])[0]\n",
    "    nb_tweets = len(idx_tweet)\n",
    "    if nb_tweets > 0:\n",
    "        # On ajoute le nombre de tweets\n",
    "        data_tweets[i,0] = nb_tweets\n",
    "        \n",
    "        for j in idx_tweet:\n",
    "            # On regarde si le tweet contient le mot tesla\n",
    "            if 'Tesla' in tweets_content[j] or 'tesla' in tweets_content[j]:\n",
    "                data_tweets[i,1] += 1\n",
    "                # On ajoute le nombre de tweets avec lag1\n",
    "                if nb_days-i >= lag1:\n",
    "                    data_tweets[i:i+lag1,3] += 1\n",
    "                else:\n",
    "                    data_tweets[i:,3] += 1\n",
    "                # On ajoute le nombre de tweets avec lag3\n",
    "                if nb_days-i >= lag3:\n",
    "                    data_tweets[i:i+lag3,4] += 1\n",
    "                else:\n",
    "                    data_tweets[i:,4] += 1\n",
    "                # On ajoute le nombre de tweets avec lag7\n",
    "                if nb_days-i >= lag7:\n",
    "                    data_tweets[i:i+lag7,5] += 1\n",
    "                else:\n",
    "                    data_tweets[i:,5] += 1\n",
    "            \n",
    "            # Nombre de likes\n",
    "            data_tweets[i,6] = tweets_likes[j]\n",
    "            if nb_days-i >= lag1:\n",
    "                data_tweets[i:i+lag1,7] += tweets_likes[j]\n",
    "            else:\n",
    "                data_tweets[i:,7] += tweets_likes[j]\n",
    "            # On ajoute le nombre de tweets avec lag3\n",
    "            if nb_days-i >= lag3:\n",
    "                data_tweets[i:i+lag3,8] += tweets_likes[j]\n",
    "            else:\n",
    "                data_tweets[i:,8] += tweets_likes[j]\n",
    "            # On ajoute le nombre de tweets avec lag7\n",
    "            if nb_days-i >= lag7:\n",
    "                data_tweets[i:i+lag7,9] += tweets_likes[j]\n",
    "            else:\n",
    "                data_tweets[i:,9] += tweets_likes[j]\n",
    "            \n",
    "            # Nombre de retweet\n",
    "            data_tweets[i,10] += tweets_retweet[j]\n",
    "            if nb_days-i >= lag1:\n",
    "                data_tweets[i:i+lag1,11] += tweets_retweet[j]\n",
    "            else:\n",
    "                data_tweets[i:,11] += tweets_retweet[j]\n",
    "            # On ajoute le nombre de tweets avec lag3\n",
    "            if nb_days-i >= lag3:\n",
    "                data_tweets[i:i+lag3,12] += tweets_retweet[j]\n",
    "            else:\n",
    "                data_tweets[i:,12] += tweets_retweet[j]\n",
    "            # On ajoute le nombre de tweets avec lag7\n",
    "            if nb_days-i >= lag7:\n",
    "                data_tweets[i:i+lag7,13] += tweets_retweet[j]\n",
    "            else:\n",
    "                data_tweets[i:,13] += tweets_retweet[j]\n",
    "        \n",
    "        # On ajoute la proportions de mention Tesla\n",
    "        data_tweets[i,2] = data_tweets[i,1]/data_tweets[i,0]"
   ]
  },
  {
   "cell_type": "code",
   "execution_count": 16,
   "id": "614916ea-1bec-48af-929b-b3be36ed3f71",
   "metadata": {},
   "outputs": [
    {
     "data": {
      "text/plain": [
       "array([2.0000000e+01, 2.0000000e+00, 1.0000000e-01, 3.0000000e+00,\n",
       "       3.0000000e+00, 9.0000000e+00, 8.5350000e+03, 3.9889190e+06,\n",
       "       7.9671530e+06, 2.3174449e+07, 1.5907200e+05, 3.3531900e+05,\n",
       "       8.3160400e+05, 2.2149140e+06])"
      ]
     },
     "execution_count": 16,
     "metadata": {},
     "output_type": "execute_result"
    }
   ],
   "source": [
    "data_tweets[-8]"
   ]
  },
  {
   "cell_type": "markdown",
   "id": "03c2b3fe-e2c2-48ee-b518-016036a0b221",
   "metadata": {},
   "source": [
    "#### Variable 14 : Installation des bornes de recharges, avec lag 7 jours et 30 jours"
   ]
  },
  {
   "cell_type": "code",
   "execution_count": 17,
   "id": "ce5abd6c-f6b0-4a7c-95db-4d0f6cd82902",
   "metadata": {},
   "outputs": [],
   "source": [
    "bornes_nb_para = 3\n",
    "\n",
    "data_bornes = np.zeros([nb_days, bornes_nb_para], dtype = int)\n",
    "\n",
    "for i in range(nb_days):\n",
    "    \n",
    "    # Même procédé que pour le nombre de tweets\n",
    "    # Ajout de la date d'installation des bornes\n",
    "    idx_bornes = np.where(bornes_dates == dates[i])[0]\n",
    "    nb_bornes = int(len(idx_bornes))\n",
    "    if nb_bornes > 0:\n",
    "        # On ajoute le nombre de bornes installées à la date i\n",
    "        data_bornes[i,0] = nb_bornes\n",
    "        \n",
    "        # On ajoute le nombre de bornes installées avec lag7\n",
    "        if nb_days-i >= lag7:\n",
    "            data_bornes[i:i+lag7,1] += nb_bornes\n",
    "        else:\n",
    "            data_bornes[i:,1] += nb_bornes\n",
    "        # On ajoute le nombre de bornes installées avec lag30\n",
    "        if nb_days-i >= lag30:\n",
    "            data_bornes[i:i+lag30,2] += nb_bornes\n",
    "        else:\n",
    "            data_bornes[i:,2] += nb_bornes\n"
   ]
  },
  {
   "cell_type": "code",
   "execution_count": 18,
   "id": "5b0afee0-96f9-4712-ab94-e8b7a2db0631",
   "metadata": {},
   "outputs": [
    {
     "data": {
      "text/plain": [
       "array([  0,   4, 276])"
      ]
     },
     "execution_count": 18,
     "metadata": {},
     "output_type": "execute_result"
    }
   ],
   "source": [
    "data_bornes[200]"
   ]
  },
  {
   "cell_type": "markdown",
   "id": "21e0c51a-5844-4691-ba86-c9c9924fd198",
   "metadata": {},
   "source": [
    "### Mise en DataFrame"
   ]
  },
  {
   "cell_type": "code",
   "execution_count": 19,
   "id": "d3d878e3-f31a-429c-bc55-d9b84dcb0c46",
   "metadata": {
    "tags": []
   },
   "outputs": [],
   "source": [
    "all_data = np.concatenate((data_market, data_deaths, data_tweets, data_bornes), axis = 1)\n",
    "\n",
    "df = pd.DataFrame (all_data, columns = parametres)"
   ]
  },
  {
   "cell_type": "code",
   "execution_count": 20,
   "id": "dc22eb81-43cb-4dfb-ab3d-3638c1b7e871",
   "metadata": {},
   "outputs": [
    {
     "data": {
      "text/html": [
       "<div>\n",
       "<style scoped>\n",
       "    .dataframe tbody tr th:only-of-type {\n",
       "        vertical-align: middle;\n",
       "    }\n",
       "\n",
       "    .dataframe tbody tr th {\n",
       "        vertical-align: top;\n",
       "    }\n",
       "\n",
       "    .dataframe thead th {\n",
       "        text-align: right;\n",
       "    }\n",
       "</style>\n",
       "<table border=\"1\" class=\"dataframe\">\n",
       "  <thead>\n",
       "    <tr style=\"text-align: right;\">\n",
       "      <th></th>\n",
       "      <th>Date</th>\n",
       "      <th>Tesla Stock Price</th>\n",
       "      <th>NASDAQ Composite</th>\n",
       "      <th>S&amp;P 500</th>\n",
       "      <th>Oil Price</th>\n",
       "      <th>Deaths</th>\n",
       "      <th>Deaths Lag 1</th>\n",
       "      <th>Deaths Lag 7</th>\n",
       "      <th>Deaths Lag 30</th>\n",
       "      <th>Tweets of Elon Musk</th>\n",
       "      <th>...</th>\n",
       "      <th>Tweet Likes Lag 1</th>\n",
       "      <th>Tweet Likes Lag 3</th>\n",
       "      <th>Tweet Likes Lag 7</th>\n",
       "      <th>Retweet</th>\n",
       "      <th>Retweet Lag 1</th>\n",
       "      <th>Retweet Lag 3</th>\n",
       "      <th>Retweet Lag 7</th>\n",
       "      <th>Installation bornes de recharge</th>\n",
       "      <th>Bornes Lag 7</th>\n",
       "      <th>Bornes Lag 30</th>\n",
       "    </tr>\n",
       "  </thead>\n",
       "  <tbody>\n",
       "    <tr>\n",
       "      <th>718</th>\n",
       "      <td>2022-12-20</td>\n",
       "      <td>146.050003</td>\n",
       "      <td>10490.889648</td>\n",
       "      <td>3810.469971</td>\n",
       "      <td>131.389999</td>\n",
       "      <td>0</td>\n",
       "      <td>1</td>\n",
       "      <td>3</td>\n",
       "      <td>10</td>\n",
       "      <td>39.0</td>\n",
       "      <td>...</td>\n",
       "      <td>3978234.0</td>\n",
       "      <td>12537622.0</td>\n",
       "      <td>22669482.0</td>\n",
       "      <td>346764.0</td>\n",
       "      <td>496285.0</td>\n",
       "      <td>1294065.0</td>\n",
       "      <td>2127589.0</td>\n",
       "      <td>0</td>\n",
       "      <td>36</td>\n",
       "      <td>73</td>\n",
       "    </tr>\n",
       "    <tr>\n",
       "      <th>719</th>\n",
       "      <td>2022-12-21</td>\n",
       "      <td>139.339996</td>\n",
       "      <td>10592.0</td>\n",
       "      <td>3839.48999</td>\n",
       "      <td>132.979996</td>\n",
       "      <td>0</td>\n",
       "      <td>0</td>\n",
       "      <td>3</td>\n",
       "      <td>10</td>\n",
       "      <td>47.0</td>\n",
       "      <td>...</td>\n",
       "      <td>4470898.0</td>\n",
       "      <td>12448377.0</td>\n",
       "      <td>22504897.0</td>\n",
       "      <td>176247.0</td>\n",
       "      <td>523011.0</td>\n",
       "      <td>1339396.0</td>\n",
       "      <td>2152394.0</td>\n",
       "      <td>0</td>\n",
       "      <td>21</td>\n",
       "      <td>73</td>\n",
       "    </tr>\n",
       "    <tr>\n",
       "      <th>720</th>\n",
       "      <td>2022-12-22</td>\n",
       "      <td>136.0</td>\n",
       "      <td>10586.459961</td>\n",
       "      <td>3853.26001</td>\n",
       "      <td>134.350006</td>\n",
       "      <td>1</td>\n",
       "      <td>1</td>\n",
       "      <td>4</td>\n",
       "      <td>11</td>\n",
       "      <td>20.0</td>\n",
       "      <td>...</td>\n",
       "      <td>3988919.0</td>\n",
       "      <td>7967153.0</td>\n",
       "      <td>23174449.0</td>\n",
       "      <td>159072.0</td>\n",
       "      <td>335319.0</td>\n",
       "      <td>831604.0</td>\n",
       "      <td>2214914.0</td>\n",
       "      <td>0</td>\n",
       "      <td>21</td>\n",
       "      <td>60</td>\n",
       "    </tr>\n",
       "    <tr>\n",
       "      <th>721</th>\n",
       "      <td>2022-12-23</td>\n",
       "      <td>126.370003</td>\n",
       "      <td>10437.75</td>\n",
       "      <td>3815.110107</td>\n",
       "      <td>130.919998</td>\n",
       "      <td>0</td>\n",
       "      <td>1</td>\n",
       "      <td>4</td>\n",
       "      <td>11</td>\n",
       "      <td>35.0</td>\n",
       "      <td>...</td>\n",
       "      <td>3962339.0</td>\n",
       "      <td>8433237.0</td>\n",
       "      <td>23866793.0</td>\n",
       "      <td>98181.0</td>\n",
       "      <td>257253.0</td>\n",
       "      <td>780264.0</td>\n",
       "      <td>2194729.0</td>\n",
       "      <td>2</td>\n",
       "      <td>23</td>\n",
       "      <td>61</td>\n",
       "    </tr>\n",
       "    <tr>\n",
       "      <th>722</th>\n",
       "      <td>2022-12-24</td>\n",
       "      <td>117.5</td>\n",
       "      <td>10462.19043</td>\n",
       "      <td>3843.340088</td>\n",
       "      <td>131.380005</td>\n",
       "      <td>0</td>\n",
       "      <td>0</td>\n",
       "      <td>4</td>\n",
       "      <td>11</td>\n",
       "      <td>22.0</td>\n",
       "      <td>...</td>\n",
       "      <td>2829553.0</td>\n",
       "      <td>6818472.0</td>\n",
       "      <td>19356094.0</td>\n",
       "      <td>65769.0</td>\n",
       "      <td>163950.0</td>\n",
       "      <td>499269.0</td>\n",
       "      <td>1793334.0</td>\n",
       "      <td>0</td>\n",
       "      <td>23</td>\n",
       "      <td>60</td>\n",
       "    </tr>\n",
       "    <tr>\n",
       "      <th>723</th>\n",
       "      <td>2022-12-25</td>\n",
       "      <td>117.5</td>\n",
       "      <td>10462.19043</td>\n",
       "      <td>3843.340088</td>\n",
       "      <td>131.380005</td>\n",
       "      <td>0</td>\n",
       "      <td>0</td>\n",
       "      <td>3</td>\n",
       "      <td>11</td>\n",
       "      <td>6.0</td>\n",
       "      <td>...</td>\n",
       "      <td>1577892.0</td>\n",
       "      <td>5540231.0</td>\n",
       "      <td>17988608.0</td>\n",
       "      <td>34750.0</td>\n",
       "      <td>100519.0</td>\n",
       "      <td>357772.0</td>\n",
       "      <td>1697168.0</td>\n",
       "      <td>0</td>\n",
       "      <td>23</td>\n",
       "      <td>58</td>\n",
       "    </tr>\n",
       "    <tr>\n",
       "      <th>724</th>\n",
       "      <td>2022-12-26</td>\n",
       "      <td>117.5</td>\n",
       "      <td>10462.19043</td>\n",
       "      <td>3843.340088</td>\n",
       "      <td>131.380005</td>\n",
       "      <td>0</td>\n",
       "      <td>0</td>\n",
       "      <td>2</td>\n",
       "      <td>11</td>\n",
       "      <td>19.0</td>\n",
       "      <td>...</td>\n",
       "      <td>1336681.0</td>\n",
       "      <td>4166234.0</td>\n",
       "      <td>12133387.0</td>\n",
       "      <td>83065.0</td>\n",
       "      <td>117815.0</td>\n",
       "      <td>281765.0</td>\n",
       "      <td>1113369.0</td>\n",
       "      <td>0</td>\n",
       "      <td>23</td>\n",
       "      <td>58</td>\n",
       "    </tr>\n",
       "    <tr>\n",
       "      <th>725</th>\n",
       "      <td>2022-12-27</td>\n",
       "      <td>117.5</td>\n",
       "      <td>10462.19043</td>\n",
       "      <td>3843.340088</td>\n",
       "      <td>131.380005</td>\n",
       "      <td>0</td>\n",
       "      <td>0</td>\n",
       "      <td>1</td>\n",
       "      <td>10</td>\n",
       "      <td>20.0</td>\n",
       "      <td>...</td>\n",
       "      <td>2504239.0</td>\n",
       "      <td>4082131.0</td>\n",
       "      <td>12515368.0</td>\n",
       "      <td>144205.0</td>\n",
       "      <td>227270.0</td>\n",
       "      <td>327789.0</td>\n",
       "      <td>1108053.0</td>\n",
       "      <td>272</td>\n",
       "      <td>274</td>\n",
       "      <td>330</td>\n",
       "    </tr>\n",
       "    <tr>\n",
       "      <th>726</th>\n",
       "      <td>2022-12-28</td>\n",
       "      <td>110.349998</td>\n",
       "      <td>10339.200195</td>\n",
       "      <td>3829.560059</td>\n",
       "      <td>129.669998</td>\n",
       "      <td>0</td>\n",
       "      <td>0</td>\n",
       "      <td>1</td>\n",
       "      <td>9</td>\n",
       "      <td>49.0</td>\n",
       "      <td>...</td>\n",
       "      <td>6362302.0</td>\n",
       "      <td>7698983.0</td>\n",
       "      <td>14517455.0</td>\n",
       "      <td>561140.0</td>\n",
       "      <td>705345.0</td>\n",
       "      <td>823160.0</td>\n",
       "      <td>1322429.0</td>\n",
       "      <td>0</td>\n",
       "      <td>274</td>\n",
       "      <td>330</td>\n",
       "    </tr>\n",
       "    <tr>\n",
       "      <th>727</th>\n",
       "      <td>2022-12-29</td>\n",
       "      <td>120.389999</td>\n",
       "      <td>10321.459961</td>\n",
       "      <td>3805.449951</td>\n",
       "      <td>127.989998</td>\n",
       "      <td>0</td>\n",
       "      <td>0</td>\n",
       "      <td>1</td>\n",
       "      <td>7</td>\n",
       "      <td>9.0</td>\n",
       "      <td>...</td>\n",
       "      <td>5142266.0</td>\n",
       "      <td>7646505.0</td>\n",
       "      <td>13186736.0</td>\n",
       "      <td>30952.0</td>\n",
       "      <td>592092.0</td>\n",
       "      <td>819362.0</td>\n",
       "      <td>1177134.0</td>\n",
       "      <td>377</td>\n",
       "      <td>651</td>\n",
       "      <td>705</td>\n",
       "    </tr>\n",
       "  </tbody>\n",
       "</table>\n",
       "<p>10 rows × 26 columns</p>\n",
       "</div>"
      ],
      "text/plain": [
       "           Date Tesla Stock Price NASDAQ Composite      S&P 500   Oil Price  \\\n",
       "718  2022-12-20        146.050003     10490.889648  3810.469971  131.389999   \n",
       "719  2022-12-21        139.339996          10592.0   3839.48999  132.979996   \n",
       "720  2022-12-22             136.0     10586.459961   3853.26001  134.350006   \n",
       "721  2022-12-23        126.370003         10437.75  3815.110107  130.919998   \n",
       "722  2022-12-24             117.5      10462.19043  3843.340088  131.380005   \n",
       "723  2022-12-25             117.5      10462.19043  3843.340088  131.380005   \n",
       "724  2022-12-26             117.5      10462.19043  3843.340088  131.380005   \n",
       "725  2022-12-27             117.5      10462.19043  3843.340088  131.380005   \n",
       "726  2022-12-28        110.349998     10339.200195  3829.560059  129.669998   \n",
       "727  2022-12-29        120.389999     10321.459961  3805.449951  127.989998   \n",
       "\n",
       "    Deaths Deaths Lag 1 Deaths Lag 7 Deaths Lag 30 Tweets of Elon Musk  ...  \\\n",
       "718      0            1            3            10                39.0  ...   \n",
       "719      0            0            3            10                47.0  ...   \n",
       "720      1            1            4            11                20.0  ...   \n",
       "721      0            1            4            11                35.0  ...   \n",
       "722      0            0            4            11                22.0  ...   \n",
       "723      0            0            3            11                 6.0  ...   \n",
       "724      0            0            2            11                19.0  ...   \n",
       "725      0            0            1            10                20.0  ...   \n",
       "726      0            0            1             9                49.0  ...   \n",
       "727      0            0            1             7                 9.0  ...   \n",
       "\n",
       "    Tweet Likes Lag 1 Tweet Likes Lag 3 Tweet Likes Lag 7   Retweet  \\\n",
       "718         3978234.0        12537622.0        22669482.0  346764.0   \n",
       "719         4470898.0        12448377.0        22504897.0  176247.0   \n",
       "720         3988919.0         7967153.0        23174449.0  159072.0   \n",
       "721         3962339.0         8433237.0        23866793.0   98181.0   \n",
       "722         2829553.0         6818472.0        19356094.0   65769.0   \n",
       "723         1577892.0         5540231.0        17988608.0   34750.0   \n",
       "724         1336681.0         4166234.0        12133387.0   83065.0   \n",
       "725         2504239.0         4082131.0        12515368.0  144205.0   \n",
       "726         6362302.0         7698983.0        14517455.0  561140.0   \n",
       "727         5142266.0         7646505.0        13186736.0   30952.0   \n",
       "\n",
       "    Retweet Lag 1 Retweet Lag 3 Retweet Lag 7 Installation bornes de recharge  \\\n",
       "718      496285.0     1294065.0     2127589.0                               0   \n",
       "719      523011.0     1339396.0     2152394.0                               0   \n",
       "720      335319.0      831604.0     2214914.0                               0   \n",
       "721      257253.0      780264.0     2194729.0                               2   \n",
       "722      163950.0      499269.0     1793334.0                               0   \n",
       "723      100519.0      357772.0     1697168.0                               0   \n",
       "724      117815.0      281765.0     1113369.0                               0   \n",
       "725      227270.0      327789.0     1108053.0                             272   \n",
       "726      705345.0      823160.0     1322429.0                               0   \n",
       "727      592092.0      819362.0     1177134.0                             377   \n",
       "\n",
       "    Bornes Lag 7 Bornes Lag 30  \n",
       "718           36            73  \n",
       "719           21            73  \n",
       "720           21            60  \n",
       "721           23            61  \n",
       "722           23            60  \n",
       "723           23            58  \n",
       "724           23            58  \n",
       "725          274           330  \n",
       "726          274           330  \n",
       "727          651           705  \n",
       "\n",
       "[10 rows x 26 columns]"
      ]
     },
     "execution_count": 20,
     "metadata": {},
     "output_type": "execute_result"
    }
   ],
   "source": [
    "df.tail(10)"
   ]
  },
  {
   "cell_type": "code",
   "execution_count": 22,
   "id": "58e72910-b69b-44f0-b37b-fc389bc5dc24",
   "metadata": {},
   "outputs": [],
   "source": [
    "df.to_excel('DataTesla.xlsx', index = False)\n"
   ]
  },
  {
   "cell_type": "code",
   "execution_count": 23,
   "id": "beeda3a6-71f7-4f2e-9902-b727147fb753",
   "metadata": {},
   "outputs": [],
   "source": [
    "df.to_csv('DataTesla.csv', index = False)"
   ]
  }
 ],
 "metadata": {
  "kernelspec": {
   "display_name": "Python 3 (ipykernel)",
   "language": "python",
   "name": "python3"
  },
  "language_info": {
   "codemirror_mode": {
    "name": "ipython",
    "version": 3
   },
   "file_extension": ".py",
   "mimetype": "text/x-python",
   "name": "python",
   "nbconvert_exporter": "python",
   "pygments_lexer": "ipython3",
   "version": "3.9.13"
  }
 },
 "nbformat": 4,
 "nbformat_minor": 5
}
