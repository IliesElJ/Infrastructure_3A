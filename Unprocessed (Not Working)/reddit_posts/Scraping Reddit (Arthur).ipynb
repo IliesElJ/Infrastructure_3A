{
 "cells": [
  {
   "cell_type": "code",
   "execution_count": 31,
   "id": "2858618f-2a29-4b6c-9bdf-fcc7ec9e706d",
   "metadata": {},
   "outputs": [],
   "source": [
    "import requests\n",
    "from bs4 import BeautifulSoup\n",
    "from datetime import datetime"
   ]
  },
  {
   "cell_type": "code",
   "execution_count": 40,
   "id": "a9a5a234-b621-4f24-99b4-d6d25f86377f",
   "metadata": {},
   "outputs": [],
   "source": [
    "def scrape_reddit_subreddit(subreddit, year=2022, num_pages=1):\n",
    "    base_url = f\"https://www.reddit.com/r/{subreddit}/\"\n",
    "    posts = []\n",
    "\n",
    "    for page in range(num_pages):\n",
    "        url = base_url + f\"?page={page + 1}\"\n",
    "        headers = {'User-Agent': 'Mozilla/5.0 (Windows NT 10.0; Win64; x64) AppleWebKit/537.36 (KHTML, like Gecko) Chrome/58.0.3029.110 Safari/537.3'}\n",
    "        response = requests.get(url, headers=headers)\n",
    "\n",
    "        if response.status_code == 200:\n",
    "            soup = BeautifulSoup(response.text, 'html.parser')\n",
    "            post_elements = soup.find_all('div', class_='Post')\n",
    "\n",
    "            for post_element in post_elements:\n",
    "                title = post_element.find('h3', class_='y8HYJ-y_lTUHkQIc1mdCq').get_text(strip=True)\n",
    "                timestamp = post_element.find('time')['datetime']\n",
    "                post_date = datetime.strptime(timestamp, \"%Y-%m-%dT%H:%M:%S.%fZ\").date()\n",
    "\n",
    "                if post_date.year == year:\n",
    "                    posts.append({\n",
    "                        'title': title,\n",
    "                        'timestamp': timestamp,\n",
    "                        # Add more fields as needed\n",
    "                    })\n",
    "        else:\n",
    "            print(f\"Failed to fetch page {page + 1}, Status code: {response.status_code}\")\n",
    "\n",
    "    return posts\n",
    "\n",
    "\n",
    "subreddit_name = \"elonmusk\"  # Change this to your desired subreddit\n",
    "num_pages_to_scrape = 10  # Change this to the number of pages you want to scrape\n",
    "\n",
    "scraped_posts = scrape_reddit_subreddit(subreddit_name, year=2022, num_pages=num_pages_to_scrape)\n",
    "\n",
    "# for post in scraped_posts:\n",
    "#     print(post)"
   ]
  },
  {
   "cell_type": "code",
   "execution_count": 41,
   "id": "53753edb-c0ff-4e23-9354-eae14c7a2ddc",
   "metadata": {},
   "outputs": [],
   "source": [
    "def scrape_reddit_subreddit(subreddit, year=2022, num_pages=1):\n",
    "    base_url = f\"https://www.reddit.com/r/{subreddit}/\"\n",
    "    posts = []\n",
    "\n",
    "    for page in range(num_pages):\n",
    "        url = base_url + f\"?page={page + 1}\"\n",
    "        headers = {'User-Agent': 'Mozilla/5.0 (Windows NT 10.0; Win64; x64) AppleWebKit/537.36 (KHTML, like Gecko) Chrome/58.0.3029.110 Safari/537.3'}\n",
    "        response = requests.get(url, headers=headers)\n",
    "\n",
    "        if response.status_code == 200:\n",
    "            soup = BeautifulSoup(response.text, 'html.parser')\n",
    "            post_elements = soup.find_all('div', class_='Post')\n",
    "\n",
    "            for post_element in post_elements:\n",
    "                title_element = post_element.find('h3', class_='y8HYJ-y_lTUHkQIc1mdCq')\n",
    "                if title_element:\n",
    "                    title = title_element.get_text(strip=True)\n",
    "                    timestamp = post_element.find('time')['datetime']\n",
    "                    post_date = datetime.strptime(timestamp, \"%Y-%m-%dT%H:%M:%S.%fZ\").date()\n",
    "\n",
    "                    if post_date.year == year:\n",
    "                        posts.append({\n",
    "                            'title': title,\n",
    "                            'timestamp': timestamp,\n",
    "                            # Add more fields as needed\n",
    "                        })\n",
    "        else:\n",
    "            print(f\"Failed to fetch page {page + 1}, Status code: {response.status_code}\")\n",
    "\n",
    "    return posts\n",
    "\n",
    "subreddit_name = \"elonmusk\"  # Change this to your desired subreddit\n",
    "num_pages_to_scrape = 10  # Change this to the number of pages you want to scrape\n",
    "\n",
    "scraped_posts = scrape_reddit_subreddit(subreddit_name, year=2022, num_pages=num_pages_to_scrape)"
   ]
  },
  {
   "cell_type": "code",
   "execution_count": 42,
   "id": "f892189f-54a3-4997-8e67-f923bea7bec0",
   "metadata": {},
   "outputs": [
    {
     "data": {
      "text/plain": [
       "[]"
      ]
     },
     "execution_count": 42,
     "metadata": {},
     "output_type": "execute_result"
    }
   ],
   "source": [
    "scraped_posts"
   ]
  },
  {
   "cell_type": "code",
   "execution_count": 1,
   "id": "31d0330a-12de-4f78-9253-eb42448351f8",
   "metadata": {},
   "outputs": [],
   "source": [
    "import pandas as pd"
   ]
  }
 ],
 "metadata": {
  "kernelspec": {
   "display_name": "Python 3 (ipykernel)",
   "language": "python",
   "name": "python3"
  },
  "language_info": {
   "codemirror_mode": {
    "name": "ipython",
    "version": 3
   },
   "file_extension": ".py",
   "mimetype": "text/x-python",
   "name": "python",
   "nbconvert_exporter": "python",
   "pygments_lexer": "ipython3",
   "version": "3.10.13"
  }
 },
 "nbformat": 4,
 "nbformat_minor": 5
}
