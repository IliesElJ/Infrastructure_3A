{
 "cells": [
  {
   "cell_type": "code",
   "execution_count": 35,
   "id": "a40abcea",
   "metadata": {},
   "outputs": [],
   "source": [
    "import numpy as np\n",
    "from hurst import random_walk\n",
    "import pandas as pd"
   ]
  },
  {
   "cell_type": "code",
   "execution_count": 34,
   "id": "7021011e",
   "metadata": {},
   "outputs": [],
   "source": [
    "import pandas as pd"
   ]
  },
  {
   "cell_type": "code",
   "execution_count": 20,
   "id": "57df1e68",
   "metadata": {},
   "outputs": [],
   "source": [
    "import matplotlib.pyplot as plt"
   ]
  },
  {
   "cell_type": "markdown",
   "id": "738add49",
   "metadata": {},
   "source": [
    "## Simulated preprocessed data"
   ]
  },
  {
   "cell_type": "code",
   "execution_count": 16,
   "id": "94c6aa9d",
   "metadata": {},
   "outputs": [],
   "source": [
    "def generate_corr(n_features):\n",
    "    \n",
    "    u = np.random.uniform(-1, 1, (n_features, n_features))\n",
    "    np.fill_diagonal(u, 1)\n",
    "    u = u + u.T\n",
    "    \n",
    "    return u/2"
   ]
  },
  {
   "cell_type": "code",
   "execution_count": 24,
   "id": "f9085131",
   "metadata": {},
   "outputs": [],
   "source": [
    "def generate_walks(T, n_features, corr):\n",
    "    \n",
    "    walks = [random_walk(T, np.random.uniform(0.3, 0.7)) for _ in range(n_features)]\n",
    "    walks = np.array(walks).T\n",
    "    walks = np.dot(walks[1:, :] - walks[:-1, :], corr)\n",
    "    \n",
    "    return np.cumsum(walks, axis=0)"
   ]
  },
  {
   "cell_type": "code",
   "execution_count": 36,
   "id": "5b1ae5da",
   "metadata": {},
   "outputs": [],
   "source": [
    "T=200\n",
    "n_features=10\n",
    "\n",
    "corr = generate_corr(n_features)\n",
    "walks = generate_walks(T, n_features, corr)\n",
    "\n",
    "columns = [f'x_{i}' for i in range(9)]+ ['y']\n",
    "data =  pd.DataFrame(walks, columns=columns)"
   ]
  },
  {
   "cell_type": "markdown",
   "id": "5ce73bf8",
   "metadata": {},
   "source": [
    "## Model Selection"
   ]
  },
  {
   "cell_type": "code",
   "execution_count": 28,
   "id": "1361181a",
   "metadata": {},
   "outputs": [],
   "source": [
    "models = {'XGBoost':None, 'OLS':None, 'RandomForest':None, 'Lasso':None, 'PC Regression':None}"
   ]
  },
  {
   "cell_type": "code",
   "execution_count": 67,
   "id": "7f8c5621",
   "metadata": {},
   "outputs": [],
   "source": [
    "import numpy as np\n",
    "import pandas as pd\n",
    "from sklearn.model_selection import train_test_split\n",
    "from sklearn.metrics import mean_squared_error\n",
    "from sklearn.linear_model import LinearRegression, Lasso\n",
    "from sklearn.ensemble import RandomForestRegressor\n",
    "from sklearn.decomposition import PCA\n",
    "from xgboost import XGBRegressor\n",
    "import statsmodels.api as sm\n",
    "\n",
    "class ModelFitter:\n",
    "    def __init__(self, data, target):\n",
    "        self.data = data\n",
    "        self.target = target\n",
    "        self.models = {\n",
    "            'XGBoost': None,\n",
    "            'OLS': None,\n",
    "            'RandomForest': None,\n",
    "            'Lasso': None,\n",
    "            'PC Regression': None\n",
    "        }\n",
    "        self.results = {}\n",
    "\n",
    "    def fit_models(self):\n",
    "        X = self.data.drop(self.target, axis=1)\n",
    "        y = self.data[self.target]\n",
    "\n",
    "        # Split data\n",
    "        X_train, X_test, y_train, y_test = train_test_split(X, y, test_size=0.3, random_state=42)\n",
    "\n",
    "        # Fit models\n",
    "        self.models['XGBoost'] = XGBRegressor().fit(X_train, y_train)\n",
    "        self.models['OLS'] = sm.OLS(y_train, sm.add_constant(X_train)).fit()\n",
    "        self.models['RandomForest'] = RandomForestRegressor().fit(X_train, y_train)\n",
    "        self.models['Lasso'] = Lasso().fit(X_train, y_train)\n",
    "\n",
    "        # For PC Regression\n",
    "        pca = PCA(n_components=min(X_train.shape))\n",
    "        X_train_pca = pca.fit_transform(X_train)\n",
    "        self.models['PC Regression'] = sm.OLS(y_train, sm.add_constant(X_train_pca)).fit()\n",
    "\n",
    "        # Store results\n",
    "        for name, model in self.models.items():\n",
    "            if name in ['OLS', 'PC Regression']:\n",
    "                self.results[name] = model.llf\n",
    "            else:\n",
    "                # Calculate likelihood \n",
    "                predictions = model.predict(X_test)\n",
    "                mse = mean_squared_error(y_test, predictions)\n",
    "                likelihood = -0.5 * len(y_test) * np.log(2 * np.pi * mse) - 0.5 * len(y_test)\n",
    "                self.results[name] = likelihood\n",
    "    \n",
    "    def get_results(self):\n",
    "        return self.results\n",
    "    \n",
    "    def retrieve_max_llf_model(self):\n",
    "        self.best_model = pd.Series(results).idxmax()\n",
    "        self.best_llf = pd.Series(results).max()\n",
    "        print(f'Best model is: {self.best_model} with Log-likelihood of: {self.best_llf}')"
   ]
  },
  {
   "cell_type": "code",
   "execution_count": 68,
   "id": "4873ce80",
   "metadata": {},
   "outputs": [
    {
     "name": "stderr",
     "output_type": "stream",
     "text": [
      "C:\\Users\\Hermes\\anaconda3\\Lib\\site-packages\\sklearn\\linear_model\\_coordinate_descent.py:628: ConvergenceWarning: Objective did not converge. You might want to increase the number of iterations, check the scale of the features or consider increasing regularisation. Duality gap: 1.972e+01, tolerance: 4.797e+00\n",
      "  model = cd_fast.enet_coordinate_descent(\n"
     ]
    }
   ],
   "source": [
    "fitter = ModelFitter(data, 'y')\n",
    "fitter.fit_models()\n",
    "results = fitter.get_results()"
   ]
  },
  {
   "cell_type": "code",
   "execution_count": 69,
   "id": "98cdfe29",
   "metadata": {},
   "outputs": [
    {
     "name": "stdout",
     "output_type": "stream",
     "text": [
      "Best model is: RandomForest with Log-likelihood of: -85.41859464333109\n"
     ]
    }
   ],
   "source": [
    "fitter.retrieve_max_llf_model()"
   ]
  },
  {
   "cell_type": "code",
   "execution_count": 61,
   "id": "233613fb",
   "metadata": {},
   "outputs": [
    {
     "data": {
      "text/plain": [
       "{'XGBoost': -96.63529093080744,\n",
       " 'OLS': -109.72714090518659,\n",
       " 'RandomForest': -83.92200552377471,\n",
       " 'Lasso': -122.36729180747248,\n",
       " 'PC Regression': -109.72714090518663}"
      ]
     },
     "execution_count": 61,
     "metadata": {},
     "output_type": "execute_result"
    }
   ],
   "source": [
    "results"
   ]
  },
  {
   "cell_type": "code",
   "execution_count": null,
   "id": "fa223879",
   "metadata": {},
   "outputs": [],
   "source": []
  }
 ],
 "metadata": {
  "kernelspec": {
   "display_name": "Python 3 (ipykernel)",
   "language": "python",
   "name": "python3"
  },
  "language_info": {
   "codemirror_mode": {
    "name": "ipython",
    "version": 3
   },
   "file_extension": ".py",
   "mimetype": "text/x-python",
   "name": "python",
   "nbconvert_exporter": "python",
   "pygments_lexer": "ipython3",
   "version": "3.11.4"
  },
  "toc": {
   "base_numbering": 1,
   "nav_menu": {},
   "number_sections": true,
   "sideBar": true,
   "skip_h1_title": false,
   "title_cell": "Table of Contents",
   "title_sidebar": "Contents",
   "toc_cell": false,
   "toc_position": {},
   "toc_section_display": true,
   "toc_window_display": false
  }
 },
 "nbformat": 4,
 "nbformat_minor": 5
}
